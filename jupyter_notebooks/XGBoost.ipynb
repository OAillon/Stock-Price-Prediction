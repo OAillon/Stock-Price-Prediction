{
 "cells": [
  {
   "cell_type": "markdown",
   "metadata": {},
   "source": [
    "# Effect of XGBoost on Stock Market Prediction\n",
    "\n",
    "In this notebook we will have a look into XGBoost for stock market prediction"
   ]
  },
  {
   "cell_type": "code",
   "execution_count": 1,
   "metadata": {},
   "outputs": [],
   "source": [
    "import numpy as np\n",
    "import pandas as pd\n",
    "import yfinance as yf\n",
    "import matplotlib.pyplot as plt\n",
    "from datetime import date\n",
    "from sklearn.linear_model import LinearRegression\n",
    "from xgboost import XGBClassifier\n",
    "from sklearn.metrics import mean_squared_error, r2_score"
   ]
  },
  {
   "cell_type": "code",
   "execution_count": 2,
   "metadata": {},
   "outputs": [
    {
     "name": "stdout",
     "output_type": "stream",
     "text": [
      "YF.download() has changed argument auto_adjust default to True\n"
     ]
    },
    {
     "name": "stderr",
     "output_type": "stream",
     "text": [
      "[*********************100%***********************]  1 of 1 completed\n"
     ]
    }
   ],
   "source": [
    "# Gathering data\n",
    "# TODO : Create function to get data from yfinance to be used in future projects\n",
    "ticker =  \"AMZN\"\n",
    "today = date.today()\n",
    "\n",
    "amzn = yf.download(ticker, start = \"2020-01-01\", end = date.today() )"
   ]
  },
  {
   "cell_type": "code",
   "execution_count": 3,
   "metadata": {},
   "outputs": [
    {
     "name": "stdout",
     "output_type": "stream",
     "text": [
      "NA Sum: \n",
      "Price   Ticker\n",
      "Close   AMZN      0\n",
      "High    AMZN      0\n",
      "Low     AMZN      0\n",
      "Open    AMZN      0\n",
      "Volume  AMZN      0\n",
      "dtype: int64\n",
      "\n",
      "Null Sum: \n",
      "Price   Ticker\n",
      "Close   AMZN      0\n",
      "High    AMZN      0\n",
      "Low     AMZN      0\n",
      "Open    AMZN      0\n",
      "Volume  AMZN      0\n",
      "dtype: int64\n"
     ]
    }
   ],
   "source": [
    "# Verifying there are no null or na values\n",
    "print(f\"NA Sum: \\n{amzn.isna().sum()}\\n\")\n",
    "print(f\"Null Sum: \\n{amzn.isnull().sum()}\")"
   ]
  },
  {
   "cell_type": "code",
   "execution_count": null,
   "metadata": {},
   "outputs": [],
   "source": []
  }
 ],
 "metadata": {
  "kernelspec": {
   "display_name": ".venv",
   "language": "python",
   "name": "python3"
  },
  "language_info": {
   "codemirror_mode": {
    "name": "ipython",
    "version": 3
   },
   "file_extension": ".py",
   "mimetype": "text/x-python",
   "name": "python",
   "nbconvert_exporter": "python",
   "pygments_lexer": "ipython3",
   "version": "3.12.7"
  }
 },
 "nbformat": 4,
 "nbformat_minor": 2
}
